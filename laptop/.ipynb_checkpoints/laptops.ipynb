{
 "cells": [
  {
   "cell_type": "code",
   "execution_count": 71,
   "id": "afaa7392-14d1-4841-8ae3-bf1ebfe0a93d",
   "metadata": {},
   "outputs": [],
   "source": [
    "import pandas as pd\n",
    "import numpy as np\n",
    "import matplotlib.pyplot as plt\n",
    "import seaborn as sns"
   ]
  },
  {
   "cell_type": "code",
   "execution_count": 72,
   "id": "da86c2e6-b9d8-4857-9401-de8c50de8eaf",
   "metadata": {},
   "outputs": [],
   "source": [
    "df = pd.read_csv('laptops_10.csv')"
   ]
  },
  {
   "cell_type": "code",
   "execution_count": null,
   "id": "fcfaed59-1649-4ab4-b00d-aa6c2d7a3b12",
   "metadata": {},
   "outputs": [],
   "source": [
    "df.info()"
   ]
  },
  {
   "cell_type": "code",
   "execution_count": null,
   "id": "2831b6e2-f63d-42c4-90a6-0866532e0549",
   "metadata": {},
   "outputs": [],
   "source": [
    "df.head()"
   ]
  },
  {
   "cell_type": "markdown",
   "id": "e50058ee-4939-4c26-9426-dd4ea2521b7e",
   "metadata": {},
   "source": [
    "#### Изучение количества памяти с помощью Matplotlib и hist ####"
   ]
  },
  {
   "cell_type": "code",
   "execution_count": null,
   "id": "bf58dd5c-b062-4797-91dd-f520b1b6fb92",
   "metadata": {},
   "outputs": [],
   "source": [
    "plt.figure(figsize=(8, 6))\n",
    "plt.hist(df['Memory_Amount'], bins = 15);\n",
    "plt.xlabel('Количество памяти')\n",
    "plt.ylabel('Количество ноутбуков')\n",
    "plt.title('Распределение ноутбуков по количеству памяти')\n"
   ]
  },
  {
   "cell_type": "markdown",
   "id": "9a57721f-d757-4090-b7d8-09b6876717fa",
   "metadata": {},
   "source": [
    "Вывод: продано большинство ноутбуков с памятью до 250 GB"
   ]
  },
  {
   "cell_type": "markdown",
   "id": "ea691b1f-3a6a-4416-99a2-5b1f65a337dd",
   "metadata": {},
   "source": [
    "#### Изучение стоимости ноутбуков с помощью Matplotlib и hist ###"
   ]
  },
  {
   "cell_type": "code",
   "execution_count": null,
   "id": "3d846c2f-5a75-4ae2-8382-dd63c801ef33",
   "metadata": {},
   "outputs": [],
   "source": [
    "plt.figure(figsize=(8, 6))\n",
    "plt.hist(df['Price_euros'], bins = 15);\n",
    "plt.xlabel('Стоимость ноутбука')\n",
    "plt.ylabel('Количество ноутбуков')\n",
    "plt.title('Распределение ноутбуков по стоимости')\n"
   ]
  },
  {
   "cell_type": "markdown",
   "id": "b07eca5f-545c-428b-ab7b-b9d47078af4b",
   "metadata": {},
   "source": [
    "#### Изучение веса ноутбуков с помощью Matplotlib и hist ####"
   ]
  },
  {
   "cell_type": "code",
   "execution_count": null,
   "id": "3c9ec482-a78d-40e0-ae60-3da1ab219907",
   "metadata": {},
   "outputs": [],
   "source": [
    "plt.figure(figsize=(8, 6))\n",
    "plt.hist(df['Weight'], bins = 15);\n",
    "plt.xlabel('Вес ноутбука')\n",
    "plt.ylabel('Количество ноутбуков')\n",
    "plt.title('Распределение ноутбуков по весу')"
   ]
  },
  {
   "cell_type": "markdown",
   "id": "c607ce14-1eff-4162-a423-2753d5490d46",
   "metadata": {},
   "source": [
    "Вывод: основной вес проданных ноутбуков 1.0 - 2.5"
   ]
  },
  {
   "cell_type": "markdown",
   "id": "e6d2fc7e-456e-4418-ae5e-4b885b754aa6",
   "metadata": {},
   "source": [
    "#### Изучение распределения типов носителя используя pie ####"
   ]
  },
  {
   "cell_type": "code",
   "execution_count": null,
   "id": "3ada4381-f4d7-4a5a-9bc2-9d64459ef045",
   "metadata": {},
   "outputs": [],
   "source": [
    "# Готовим данные для графика\n",
    "data = df['Memory_Type'].value_counts()\n",
    "data.head()"
   ]
  },
  {
   "cell_type": "code",
   "execution_count": null,
   "id": "c8af2cf1-c620-4c2e-8c5e-cb37914b04ca",
   "metadata": {},
   "outputs": [],
   "source": [
    "# Строим круговую диаграмму\n",
    "\n",
    "plt.figure(figsize=(6, 4))\n",
    "\n",
    "plt.pie(data.values, labels = data.index, autopct='%1.1f%%')\n",
    "\n",
    "plt.title('Распределение типов носителя')\n",
    "#plt.legend(data.index);"
   ]
  },
  {
   "cell_type": "markdown",
   "id": "a3b22f81-c24b-4019-a422-c82310186431",
   "metadata": {},
   "source": [
    "Вывод: основное количество востребованных типов носителя составляют SSD - 49.2% и HDD -44.2%"
   ]
  },
  {
   "cell_type": "markdown",
   "id": "49d3a37d-291e-46bf-8e20-82e2b5e4684a",
   "metadata": {},
   "source": [
    "#### Изучение распределения компаний производителей используя bar ####"
   ]
  },
  {
   "cell_type": "code",
   "execution_count": null,
   "id": "c0e5878f-fda8-471e-aaa2-a81e2830b0f8",
   "metadata": {},
   "outputs": [],
   "source": [
    "# Готовим данные для графика\n",
    "data = df['Company'].value_counts()\n",
    "data.head()"
   ]
  },
  {
   "cell_type": "code",
   "execution_count": null,
   "id": "aeca35d1-3798-4b59-901d-1b636e333e6f",
   "metadata": {},
   "outputs": [],
   "source": [
    "plt.figure(figsize=(6, 4))\n",
    "\n",
    "plt.bar(data.index, data.values)\n",
    "\n",
    "plt.title('Распределение по компаниям производителям')\n",
    "plt.xlabel('Название компании')\n",
    "plt.ylabel('Количество')\n",
    "plt.xticks(rotation=90);"
   ]
  },
  {
   "cell_type": "markdown",
   "id": "c455fd45-3ddb-48a3-9ece-aa7586745a49",
   "metadata": {},
   "source": [
    "Вывод: ноутбуков от компаний Dell, Lenovo, HP было продано значительно больше (от 500 до 270) чем остальных "
   ]
  },
  {
   "cell_type": "markdown",
   "id": "cfd13547-ddaf-4f5d-893f-18718f912976",
   "metadata": {},
   "source": [
    "#### Изучение распределения операционной системы используя bar ####"
   ]
  },
  {
   "cell_type": "code",
   "execution_count": null,
   "id": "d0eb188f-d300-4f37-874c-6df0816b9eed",
   "metadata": {},
   "outputs": [],
   "source": [
    "# Готовим данные для графика\n",
    "data = df['OpSys'].value_counts().reset_index()\n",
    "data.head()"
   ]
  },
  {
   "cell_type": "code",
   "execution_count": null,
   "id": "62f6e4b8-35d3-4a8d-9265-01bb52805043",
   "metadata": {},
   "outputs": [],
   "source": [
    "plt.figure(figsize=(6, 4))\n",
    "\n",
    "plt.bar(data['OpSys'], data['count'])\n",
    "\n",
    "plt.title('Распределение операционной системы')\n",
    "plt.xlabel('Название ОС')\n",
    "plt.ylabel('Количество')\n",
    "plt.xticks(rotation=90);"
   ]
  },
  {
   "cell_type": "markdown",
   "id": "4f6c5908-a3ba-4916-955d-fb9deaa1a993",
   "metadata": {},
   "source": [
    "Вывод: ноутбуков с операционной системой Windows 10 было продано значительно больше (1200) чем остальных"
   ]
  },
  {
   "cell_type": "markdown",
   "id": "49bddc29-0a9e-4c35-8550-0a8d1052e7ec",
   "metadata": {},
   "source": [
    "#### Изучение распределения компаний производителя CPU используя pie ####"
   ]
  },
  {
   "cell_type": "code",
   "execution_count": null,
   "id": "61dcb240-a9a5-48e2-8fca-dacb25de2521",
   "metadata": {},
   "outputs": [],
   "source": [
    "# Готовим данные для графика\n",
    "data = df['Cpu_Company'].value_counts()\n",
    "\n",
    "data.head()"
   ]
  },
  {
   "cell_type": "code",
   "execution_count": null,
   "id": "a0f61be4-1875-4a4e-9334-ed4b19aa26c5",
   "metadata": {},
   "outputs": [],
   "source": [
    "# Строим круговую диаграмму\n",
    "\n",
    "plt.figure(figsize=(6, 4))\n",
    "\n",
    "plt.pie(data.values, labels = data.index, autopct='%1.1f%%')\n",
    "\n",
    "plt.title('Распределение компаний производителя CPU')\n",
    "#plt.legend(data.index);"
   ]
  },
  {
   "cell_type": "markdown",
   "id": "46865edd-f41b-403d-9939-e709226657b8",
   "metadata": {},
   "source": [
    "Вывод: самой востребованной компанией производителем CPU является Intel (95.2%)"
   ]
  },
  {
   "cell_type": "markdown",
   "id": "345c1f13-360f-499b-b7c3-a4c9c3e81f47",
   "metadata": {},
   "source": [
    "#### Изучение взаимосвязи компаний производителей ноутбуков и компаний производителей процессоров, используя сложенную или мнорядовую столбчатую диаграмму."
   ]
  },
  {
   "cell_type": "markdown",
   "id": "bf9b220c-ddf8-4493-a5ed-f06e1262cfdf",
   "metadata": {},
   "source": [
    "#### График  в абсолютных величинах (bar)"
   ]
  },
  {
   "cell_type": "code",
   "execution_count": null,
   "id": "71220b80-8e69-4a20-a64b-fe824ef48989",
   "metadata": {},
   "outputs": [],
   "source": [
    "df1 = pd.crosstab(index = df['Company'], columns = df['Cpu_Company'])\n",
    "df1.drop('Samsung', inplace = True, axis = 1)\n",
    "df1 = df1.reset_index()\n",
    "df1.head()"
   ]
  },
  {
   "cell_type": "code",
   "execution_count": null,
   "id": "33f16be1-7cb0-48b8-a2c5-95ff4c2bd9e9",
   "metadata": {},
   "outputs": [],
   "source": [
    "plt.figure(figsize=(8, 6))\n",
    "\n",
    "# определяем кол-во делений\n",
    "n_ticks = np.arange(len(df1['AMD']))\n",
    "\n",
    "# определяем сдвиг\n",
    "offset = 0.2\n",
    "\n",
    "# определяем ширину столбцов\n",
    "w = 0.4\n",
    "\n",
    "# добавляем сдвиг к кол-ву делений\n",
    "plt.bar(n_ticks - offset, df1['AMD'], width=w)\n",
    "plt.bar(n_ticks + offset, df1['Intel'], width=w)\n",
    "\n",
    "plt.title('Взаимосвязь компаний производителей ноутбуков и компаний производителей процессоров')\n",
    "plt.xlabel('Компании производители ноутбуков')\n",
    "plt.ylabel('Кол-во процессоров')\n",
    "plt.legend(['AMD', 'Intel'])\n",
    "plt.xticks(n_ticks, df1['Company'], rotation = 90);  # добавляем метки делений"
   ]
  },
  {
   "cell_type": "markdown",
   "id": "f2aee1a7-f995-4824-8120-4f418b854b0e",
   "metadata": {},
   "source": [
    "#### График в относительных величинах (bar)"
   ]
  },
  {
   "cell_type": "code",
   "execution_count": null,
   "id": "3dd227e2-d0b8-4448-b0bf-cee29c1d8c18",
   "metadata": {},
   "outputs": [],
   "source": [
    "df1 = pd.crosstab(index = df['Company'], columns = df['Cpu_Company'], normalize = 'index')\n",
    "df1.drop('Samsung', inplace = True, axis = 1)\n",
    "df1 = df1.reset_index()\n",
    "df1.head()"
   ]
  }
 ],
 "metadata": {
  "kernelspec": {
   "display_name": "Python 3 (ipykernel)",
   "language": "python",
   "name": "python3"
  },
  "language_info": {
   "codemirror_mode": {
    "name": "ipython",
    "version": 3
   },
   "file_extension": ".py",
   "mimetype": "text/x-python",
   "name": "python",
   "nbconvert_exporter": "python",
   "pygments_lexer": "ipython3",
   "version": "3.11.4"
  }
 },
 "nbformat": 4,
 "nbformat_minor": 5
}
