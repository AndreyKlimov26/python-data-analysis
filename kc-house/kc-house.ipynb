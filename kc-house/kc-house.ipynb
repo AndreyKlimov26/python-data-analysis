{
 "cells": [
  {
   "cell_type": "code",
   "execution_count": 1,
   "id": "765af963-516f-4e2b-a216-22c390d45723",
   "metadata": {},
   "outputs": [],
   "source": [
    "import numpy as np\n",
    "import pandas as pd\n",
    "import matplotlib.pyplot as plt\n",
    "import seaborn as sns"
   ]
  },
  {
   "cell_type": "markdown",
   "id": "cac9e966-b6f1-48c9-89a7-4901745e1a34",
   "metadata": {},
   "source": [
    "#### Скачать следующие данные: kc-house-data и laptop_price"
   ]
  },
  {
   "cell_type": "code",
   "execution_count": null,
   "id": "f6334305-273b-47ae-a20e-271f896df2a4",
   "metadata": {},
   "outputs": [],
   "source": [
    "# Считываем датасет\n",
    "df = pd.read_csv('kc-house-data.csv', sep=',')\n",
    "df.head()"
   ]
  },
  {
   "cell_type": "code",
   "execution_count": null,
   "id": "b28f2914-a6cf-4bfd-b323-1e2f68c9b6e9",
   "metadata": {},
   "outputs": [],
   "source": [
    "df.price"
   ]
  },
  {
   "cell_type": "markdown",
   "id": "c6d5d9e6-d483-4c4e-aa95-2861e1b9130d",
   "metadata": {},
   "source": [
    "#### Изучение стоимости недвижимости с помощью Matplotlib и hist"
   ]
  },
  {
   "cell_type": "code",
   "execution_count": null,
   "id": "74cb64a4-ff6a-4038-807d-9084989cb386",
   "metadata": {},
   "outputs": [],
   "source": [
    "plt.figure(figsize=(8, 6))\n",
    "\n",
    "plt.hist(df.price, bins=15)\n",
    "\n",
    "plt.title('Распределение недвижимости по стоимости')\n",
    "plt.xlabel('Стоимость недвижимости')\n",
    "plt.ylabel('Кол-во недвижимости')"
   ]
  },
  {
   "cell_type": "markdown",
   "id": "90f5ef04-ba20-491a-9d3a-3a142845869c",
   "metadata": {},
   "source": [
    "Вывод: чем ниже стоимость недвижимости тем больше продажи"
   ]
  },
  {
   "cell_type": "markdown",
   "id": "2232ec0d-c25c-49ab-9ffd-a0dbb3bb5615",
   "metadata": {},
   "source": [
    "#### Распределение квадратуры"
   ]
  },
  {
   "cell_type": "code",
   "execution_count": null,
   "id": "8fce9bd2-c58f-44dc-8b75-5f9a34276479",
   "metadata": {},
   "outputs": [],
   "source": [
    "plt.figure(figsize=(8, 6))\n",
    "\n",
    "plt.hist(df.sqft_living, bins=15)\n",
    "\n",
    "plt.title('Распределение недвижимости по жилой квадратуре')\n",
    "plt.xlabel('Жилая квадратура')\n",
    "plt.ylabel('Кол-во недвижимости')"
   ]
  },
  {
   "cell_type": "markdown",
   "id": "9cb64f3a-a1f8-4bdc-bb1a-bb9342aea93e",
   "metadata": {},
   "source": [
    "Вывод: больше всего недвижимости (9000) с жилой квадратурой от 1000 до 3000 кв.метров"
   ]
  },
  {
   "cell_type": "markdown",
   "id": "e4c9a4b9-6b97-4f8f-b495-7444b9c400f4",
   "metadata": {},
   "source": [
    "#### Распределение года постройки"
   ]
  },
  {
   "cell_type": "code",
   "execution_count": null,
   "id": "ccbcfb1c-d0c7-42c8-9451-f3c9a4d7f121",
   "metadata": {},
   "outputs": [],
   "source": [
    "plt.figure(figsize=(8, 6))\n",
    "\n",
    "plt.hist(df.yr_built, bins=15)\n",
    "\n",
    "plt.title('Распределение недвижимости по году постройки')\n",
    "plt.xlabel('Год постройки')\n",
    "plt.ylabel('Кол-во недвижимости')"
   ]
  },
  {
   "cell_type": "markdown",
   "id": "1b4c0418-66d0-4d17-84d9-013fa8d2a7b3",
   "metadata": {},
   "source": [
    "Вывод: больше всего недвижимости было построено в период с 1950 (более 2000) и по 2020 год. Наблюдается резкий скачок в начале 2000 - х, когда количество недвижимости превысило отметку 2500 домов."
   ]
  },
  {
   "cell_type": "markdown",
   "id": "22957260-c245-49b3-9e4d-3f87596db464",
   "metadata": {},
   "source": [
    "#### Распределение домов от наличия вида на набережную\n"
   ]
  },
  {
   "cell_type": "code",
   "execution_count": null,
   "id": "53b713dd-4f01-4616-a890-7a1a97fd2a5a",
   "metadata": {},
   "outputs": [],
   "source": [
    "plt.figure(figsize=(8, 6))\n",
    "\n",
    "plt.hist(df.floors, bins=15)\n",
    "\n",
    "plt.title('Распределение недвижимости по году постройки')\n",
    "plt.xlabel('Год постройки')\n",
    "plt.ylabel('Кол-во недвижимости')"
   ]
  },
  {
   "cell_type": "markdown",
   "id": "cfed9c54-7369-494d-be16-ada82e9adfd1",
   "metadata": {},
   "source": [
    "Вывод: количество домов с видом на набережную составляет всего 0,8%"
   ]
  },
  {
   "cell_type": "markdown",
   "id": "e881f06c-421d-417c-8223-dc7e459db38f",
   "metadata": {},
   "source": [
    "#### Распределение этажей домов"
   ]
  },
  {
   "cell_type": "code",
   "execution_count": 8,
   "id": "cb74d683-4c23-4e7c-afa9-fcc3e187158d",
   "metadata": {},
   "outputs": [
    {
     "data": {
      "image/png": "[encoded data removed]",
      "text/plain": [
       "<Figure size 600x400 with 1 Axes>"
      ]
     },
     "metadata": {},
     "output_type": "display_data"
    }
   ],
   "source": [
    "data = df['floors'].value_counts()\n",
    "\n",
    "plt.figure(figsize=(6, 4))\n",
    "plt.pie(data, autopct='%1.1f%%', labels=data.index)\n",
    "plt.title('Количество этажей');"
   ]
  },
  {
   "cell_type": "markdown",
   "id": "406feff4-1ac8-4c19-806a-828ea51c281b",
   "metadata": {},
   "source": [
    "Вывод: большую долю недвижимости составляют одноэтажные и духэтажные сооружения, 49.4% и 38.1% соответственно"
   ]
  },
  {
   "cell_type": "markdown",
   "id": "d8255bab-809a-46a9-9c2e-738ad0e94032",
   "metadata": {},
   "source": [
    "#### Распределение состояния домов"
   ]
  },
  {
   "cell_type": "code",
   "execution_count": null,
   "id": "4737d51a-3eb2-4661-801d-93b5a6f9d9fa",
   "metadata": {},
   "outputs": [],
   "source": [
    "data = df['condition'].value_counts()\n",
    "\n",
    "plt.figure(figsize=(6, 4))\n",
    "plt.pie(data, autopct='%1.1f%%', labels=data.index);"
   ]
  },
  {
   "cell_type": "markdown",
   "id": "8ae0276f-b5b2-4e79-8c99-410994145974",
   "metadata": {},
   "source": [
    "Вывод: большая доля недвижимости находится в удовлетворительном состоянии 64.9%"
   ]
  },
  {
   "cell_type": "markdown",
   "id": "4d4b914e-e9b5-493f-9778-3f5d9b69a829",
   "metadata": {},
   "source": [
    "Исследование: какие характеристики недвижимости влияют на стоимость недвижимости, с применением не менее 5 диаграмм.\n",
    "Анализ в формате storytelling с письменными выводами и наблюдениями."
   ]
  },
  {
   "cell_type": "code",
   "execution_count": null,
   "id": "b0e163aa-67cf-452f-a2af-dd90046ab39c",
   "metadata": {},
   "outputs": [],
   "source": [
    "corr_matrix = df.corr(numeric_only=True)\n",
    "corr_matrix = np.round(corr_matrix, 2)\n",
    "corr_matrix[np.abs(corr_matrix) < 0.3] = 0\n",
    "corr_matrix"
   ]
  },
  {
   "cell_type": "code",
   "execution_count": null,
   "id": "5bb55947-0580-429e-8bce-d8d42f61168c",
   "metadata": {},
   "outputs": [],
   "source": [
    "plt.figure(figsize=(8, 6))\n",
    "sns.heatmap(corr_matrix, annot=True, linewidths=.5, cmap='coolwarm');"
   ]
  },
  {
   "cell_type": "code",
   "execution_count": null,
   "id": "ba7396ce-c232-41f9-9b79-5a628a839d0e",
   "metadata": {},
   "outputs": [],
   "source": [
    "sns.jointplot(x=df['sqft_living'], y=df['price'], kind='scatter');"
   ]
  }
 ],
 "metadata": {
  "kernelspec": {
   "display_name": "Python 3 (ipykernel)",
   "language": "python",
   "name": "python3"
  },
  "language_info": {
   "codemirror_mode": {
    "name": "ipython",
    "version": 3
   },
   "file_extension": ".py",
   "mimetype": "text/x-python",
   "name": "python",
   "nbconvert_exporter": "python",
   "pygments_lexer": "ipython3",
   "version": "3.11.4"
  }
 },
 "nbformat": 4,
 "nbformat_minor": 5
}
