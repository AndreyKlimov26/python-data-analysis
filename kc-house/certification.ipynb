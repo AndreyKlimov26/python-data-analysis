{
 "cells": [
  {
   "cell_type": "code",
   "execution_count": 1,
   "id": "765af963-516f-4e2b-a216-22c390d45723",
   "metadata": {},
   "outputs": [],
   "source": [
    "import numpy as np\n",
    "import pandas as pd\n",
    "import matplotlib.pyplot as plt\n",
    "import seaborn as sns"
   ]
  },
  {
   "cell_type": "code",
   "execution_count": null,
   "id": "f6334305-273b-47ae-a20e-271f896df2a4",
   "metadata": {
    "scrolled": true
   },
   "outputs": [],
   "source": [
    "# Считываем датасет\n",
    "df = pd.read_csv('kc-house-data.csv', sep=',')\n",
    "df.head()"
   ]
  },
  {
   "cell_type": "markdown",
   "id": "79f3eab0-4380-4666-9b6c-97873ad1b0cf",
   "metadata": {},
   "source": [
    "#### Стоимость недвижимости"
   ]
  },
  {
   "cell_type": "code",
   "execution_count": null,
   "id": "3e8d47e7-3b2c-43d3-b29f-5843af575dde",
   "metadata": {},
   "outputs": [],
   "source": [
    "df['price'].describe()"
   ]
  },
  {
   "cell_type": "code",
   "execution_count": null,
   "id": "d7c8f78f-5037-4d1c-b765-ba5aa072db3f",
   "metadata": {},
   "outputs": [],
   "source": [
    "df['price1'] = df['price']/100000\n",
    "df['price1'].describe()"
   ]
  },
  {
   "cell_type": "code",
   "execution_count": null,
   "id": "2607d447-476c-4349-8839-eed65f363d0e",
   "metadata": {},
   "outputs": [],
   "source": [
    "fig, ax = plt.subplots(figsize=(10, 6))\n",
    "ax.hist(df['price1'], bins=range(0, 13, 1))\n",
    "ax.xaxis.set_major_locator(plt.IndexLocator(base = 1, offset = 0))\n",
    "ax.grid()\n",
    "for i in ax.patches:\n",
    "    ax.annotate('%1.0f'%(i.get_height()), (i.get_x()+0.2, i.get_height() + 60))\n",
    "plt.title('Распределение недвижимости по стоимости')\n",
    "plt.xlabel('Стоимость')\n",
    "plt.ylabel('Количество')\n",
    "plt.show()"
   ]
  },
  {
   "cell_type": "markdown",
   "id": "fa803df8-2ab3-4eb3-aa7a-e1c6f2ca8751",
   "metadata": {},
   "source": [
    " Вывод: самое большое количество домов имеют цену 3 - 4 млн. рублей количество таких домов составляет 4257"
   ]
  },
  {
   "cell_type": "markdown",
   "id": "e4c9a4b9-6b97-4f8f-b495-7444b9c400f4",
   "metadata": {},
   "source": [
    "#### Распределение года постройки"
   ]
  },
  {
   "cell_type": "code",
   "execution_count": null,
   "id": "866aab31-f17f-4e37-bf92-a24e82f3d0ee",
   "metadata": {},
   "outputs": [],
   "source": [
    "df['yr_built'].describe()"
   ]
  },
  {
   "cell_type": "code",
   "execution_count": null,
   "id": "1805326f-994b-4f5e-9e93-f8ff54ffa4fb",
   "metadata": {
    "scrolled": true
   },
   "outputs": [],
   "source": [
    "fig, ax = plt.subplots(figsize=(10, 6))\n",
    "ax.hist(df['yr_built'], bins = range(1900, 2030, 10))\n",
    "ax.xaxis.set_major_locator(plt.IndexLocator(base = 10, offset = 0))\n",
    "ax.grid()\n",
    "for i in ax.patches:\n",
    "    ax.annotate('%1.0f'%(i.get_height()), (i.get_x() + 2, i.get_height() + 70))\n",
    "plt.title('Распределение недвижимости по году постройки')\n",
    "plt.xlabel('Год')\n",
    "plt.ylabel('Количество')\n",
    "plt.show()"
   ]
  },
  {
   "cell_type": "markdown",
   "id": "f2a04e33-506b-4cae-9113-742fbbad0f54",
   "metadata": {},
   "source": [
    "Вывод: самое большое количество недвижимости было построено в период с 2000 по 2010 год - 3518"
   ]
  },
  {
   "cell_type": "code",
   "execution_count": null,
   "id": "393a4ec1-7bbc-4662-9c2b-af121e06390b",
   "metadata": {},
   "outputs": [],
   "source": [
    "n, bins, patches = ax.hist(df['yr_built'], bins = range(1900, 2030, 10))\n",
    "n, bins, patches"
   ]
  },
  {
   "cell_type": "markdown",
   "id": "22957260-c245-49b3-9e4d-3f87596db464",
   "metadata": {},
   "source": [
    "#### Распределение домов от наличия вида на набережную\n"
   ]
  },
  {
   "cell_type": "code",
   "execution_count": null,
   "id": "f2ac3548-3f07-4722-b6e1-25578bac5c45",
   "metadata": {},
   "outputs": [],
   "source": [
    "data = df['waterfront'].value_counts()\n",
    "\n",
    "plt.figure(figsize=(6, 4))\n",
    "plt.pie(data, autopct='%1.1f%%')\n",
    "plt.legend(['no', 'yes']);"
   ]
  },
  {
   "cell_type": "markdown",
   "id": "cfed9c54-7369-494d-be16-ada82e9adfd1",
   "metadata": {},
   "source": [
    " Вывод: количество домов с видом на набережную составляет всего 0,8%"
   ]
  },
  {
   "cell_type": "markdown",
   "id": "e881f06c-421d-417c-8223-dc7e459db38f",
   "metadata": {},
   "source": [
    "#### Распределение этажей домов"
   ]
  },
  {
   "cell_type": "code",
   "execution_count": null,
   "id": "cb74d683-4c23-4e7c-afa9-fcc3e187158d",
   "metadata": {},
   "outputs": [],
   "source": [
    "data = df['floors'].value_counts()\n",
    "\n",
    "plt.figure(figsize=(6, 4))\n",
    "plt.pie(data, autopct='%1.1f%%', labels=data.index)\n",
    "plt.title('Количество этажей');"
   ]
  },
  {
   "cell_type": "markdown",
   "id": "406feff4-1ac8-4c19-806a-828ea51c281b",
   "metadata": {},
   "source": [
    "Вывод: большую долю недвижимости составляют одноэтажные и духэтажные сооружения, 49.4% и 38.1% соответственно"
   ]
  },
  {
   "cell_type": "markdown",
   "id": "d8255bab-809a-46a9-9c2e-738ad0e94032",
   "metadata": {},
   "source": [
    "#### Распределение состояния домов"
   ]
  },
  {
   "cell_type": "code",
   "execution_count": null,
   "id": "4737d51a-3eb2-4661-801d-93b5a6f9d9fa",
   "metadata": {},
   "outputs": [],
   "source": [
    "data = df['condition'].value_counts()\n",
    "\n",
    "plt.figure(figsize=(6, 4))\n",
    "plt.pie(data, autopct='%1.1f%%', labels=data.index);"
   ]
  },
  {
   "cell_type": "markdown",
   "id": "8ae0276f-b5b2-4e79-8c99-410994145974",
   "metadata": {},
   "source": [
    "Вывод: большая доля недвижимости находится в удовлетворительном состоянии 64.9%"
   ]
  },
  {
   "cell_type": "markdown",
   "id": "4d4b914e-e9b5-493f-9778-3f5d9b69a829",
   "metadata": {},
   "source": [
    "Исследуйте, какие характеристики недвижимости влияют на стоимость недвижимости, с применением не менее 5 диаграмм из урока.\n",
    "Анализ сделайте в формате storytelling: дополнить каждый график письменными выводами и наблюдениями."
   ]
  },
  {
   "cell_type": "code",
   "execution_count": null,
   "id": "b0e163aa-67cf-452f-a2af-dd90046ab39c",
   "metadata": {},
   "outputs": [],
   "source": [
    "corr_matrix = df.corr(numeric_only=True)\n",
    "corr_matrix = np.round(corr_matrix, 2)\n",
    "corr_matrix[np.abs(corr_matrix) < 0.3] = 0\n",
    "corr_matrix"
   ]
  },
  {
   "cell_type": "code",
   "execution_count": null,
   "id": "5bb55947-0580-429e-8bce-d8d42f61168c",
   "metadata": {},
   "outputs": [],
   "source": [
    "plt.figure(figsize=(8, 6))\n",
    "sns.heatmap(corr_matrix, annot=True, linewidths=.5, cmap='coolwarm');"
   ]
  },
  {
   "cell_type": "code",
   "execution_count": null,
   "id": "ba7396ce-c232-41f9-9b79-5a628a839d0e",
   "metadata": {},
   "outputs": [],
   "source": [
    "sns.jointplot(x=df['sqft_living'], y=df['price'], kind='scatter');"
   ]
  },
  {
   "cell_type": "code",
   "execution_count": null,
   "id": "9954da31-6620-4b5a-87f0-8006a2561450",
   "metadata": {},
   "outputs": [],
   "source": [
    "sns.boxplot(x=df['price'], y=df['grade'].astype('str'), whis=1.5);\n",
    "plt.xlabel('price')\n",
    "plt.ylabel('grade')\n",
    "plt.title('Распределение цены по категориям');"
   ]
  },
  {
   "cell_type": "code",
   "execution_count": null,
   "id": "7641b5f6-7185-4aef-8c4b-5ec8005bc0f0",
   "metadata": {},
   "outputs": [],
   "source": [
    "sns.boxplot(x=df['price'], y=df['floors'].astype('str'), whis=1.5);\n",
    "plt.xlabel('price')\n",
    "plt.ylabel('floors')\n",
    "plt.title('Распределение цены по количеству этажей в доме');"
   ]
  },
  {
   "cell_type": "code",
   "execution_count": null,
   "id": "baec5b49-f253-4be8-838a-8c96361193a7",
   "metadata": {},
   "outputs": [],
   "source": [
    "sns.boxplot(x=df['price'], y=df['view'].astype('str'), whis=1.5);\n",
    "plt.xlabel('price')\n",
    "plt.ylabel('view')\n",
    "plt.title('Распределение цены по оценке вида');"
   ]
  },
  {
   "cell_type": "markdown",
   "id": "65d19ae7-6e2b-48ba-b782-2d6bcd893712",
   "metadata": {},
   "source": [
    "Вывод: на стоимость недвижимости влияют такие характеристики как оценка вида, количество этажей в доме, качество конструкции и жилплощадь. Самыми дорогостоящими домами являются дома с жилой площадью от 6000 до 8000, высоким качеством конструкции и дизайна, количеством этажей 2.5 и отценкой вида 4."
   ]
  },
  {
   "cell_type": "code",
   "execution_count": null,
   "id": "da677753",
   "metadata": {},
   "outputs": [],
   "source": [
    "import numpy as np\n",
    "import pandas as pd\n",
    "import matplotlib.pyplot as plt\n",
    "import seaborn as sns"
   ]
  },
  {
   "cell_type": "markdown",
   "id": "4f4a40ee",
   "metadata": {},
   "source": [
    "#### Визуализация данных с Matplotlib и Seaborn ####\n",
    "\n",
    "Подключение библиотек и скриптов"
   ]
  },
  {
   "cell_type": "code",
   "execution_count": null,
   "id": "f5f1cab8",
   "metadata": {},
   "outputs": [],
   "source": [
    "# Считываем датасет\n",
    "df = pd.read_csv('laptop_price.csv', sep=',', encoding=\"windows-1251\")\n",
    "df.sample(n=10)"
   ]
  },
  {
   "cell_type": "markdown",
   "id": "b65df129",
   "metadata": {},
   "source": [
    "#### Стандартный синтаксис создания графика ####"
   ]
  },
  {
   "cell_type": "code",
   "execution_count": null,
   "id": "13ee37c6",
   "metadata": {},
   "outputs": [],
   "source": [
    "plt.figure(figsize=(8, 6))\n",
    "plt.plot([0, 1, 2, 3], [10, 9, 6, 1])\n",
    "plt.xlabel('x')\n",
    "plt.ylabel('y')\n",
    "plt.title('Example')\n",
    "plt.grid();"
   ]
  }
 ],
 "metadata": {
  "kernelspec": {
   "display_name": "Python 3 (ipykernel)",
   "language": "python",
   "name": "python3"
  },
  "language_info": {
   "codemirror_mode": {
    "name": "ipython",
    "version": 3
   },
   "file_extension": ".py",
   "mimetype": "text/x-python",
   "name": "python",
   "nbconvert_exporter": "python",
   "pygments_lexer": "ipython3",
   "version": "3.11.4"
  }
 },
 "nbformat": 4,
 "nbformat_minor": 5
}
